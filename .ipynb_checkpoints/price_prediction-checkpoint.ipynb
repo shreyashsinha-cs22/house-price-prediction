{
 "cells": [
  {
   "cell_type": "code",
   "execution_count": 4,
   "id": "9ec18b42-6ca3-4562-aca9-7b0a6acdf620",
   "metadata": {
    "vscode": {
     "languageId": "python"
    }
   },
   "outputs": [],
   "source": [
    "import pandas as pd\n",
    "import numpy as np"
   ]
  },
  {
   "cell_type": "code",
   "execution_count": null,
   "id": "f08a85e3-502a-49e2-ba09-4d612123de1f",
   "metadata": {},
   "outputs": [],
   "source": []
  },
  {
   "cell_type": "code",
   "execution_count": null,
   "id": "4ce1e5f9-0926-4812-b06c-866596b51c74",
   "metadata": {},
   "outputs": [],
   "source": []
  }
 ],
 "metadata": {
  "kernelspec": {
   "display_name": "",
   "name": ""
  },
  "language_info": {
   "name": ""
  }
 },
 "nbformat": 4,
 "nbformat_minor": 5
}
